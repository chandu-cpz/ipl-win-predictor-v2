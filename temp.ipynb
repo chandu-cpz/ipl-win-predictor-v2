{
 "cells": [
  {
   "cell_type": "code",
   "execution_count": 3,
   "metadata": {},
   "outputs": [],
   "source": [
    "import pandas as pd\n",
    "import numpy as np\n"
   ]
  },
  {
   "cell_type": "code",
   "execution_count": 4,
   "metadata": {},
   "outputs": [],
   "source": [
    "df = pd.read_csv(\"cleaned.csv\")"
   ]
  },
  {
   "cell_type": "markdown",
   "metadata": {},
   "source": [
    "# Categorise Columns"
   ]
  },
  {
   "cell_type": "code",
   "execution_count": 5,
   "metadata": {},
   "outputs": [],
   "source": [
    "num_cols = list(df.select_dtypes(include=['int', 'float']).columns)\n",
    "cat_cols = list(df.select_dtypes(exclude=['int', 'float']).columns)"
   ]
  },
  {
   "cell_type": "code",
   "execution_count": 6,
   "metadata": {},
   "outputs": [],
   "source": [
    "from sklearn.pipeline import Pipeline\n",
    "from sklearn.preprocessing import StandardScaler, OrdinalEncoder\n",
    "from sklearn.impute import SimpleImputer\n",
    "from sklearn.base import BaseEstimator, TransformerMixin"
   ]
  },
  {
   "cell_type": "markdown",
   "metadata": {},
   "source": [
    "# Custom IQR Removal Transformer"
   ]
  },
  {
   "cell_type": "code",
   "execution_count": 7,
   "metadata": {},
   "outputs": [],
   "source": [
    "class Outlier_Remover(BaseEstimator, TransformerMixin):\n",
    "    \n",
    "    def __init__(self, action='keep'): \n",
    "        self.action = action\n",
    "        \n",
    "    def fit(self, X, y=None):\n",
    "        self.median_ = np.median(X, axis=0)\n",
    "        return self\n",
    "    \n",
    "    def transform(self, X):\n",
    "        Q1 = np.percentile(X, 25, axis=0)\n",
    "        Q3 = np.percentile(X, 75, axis=0) \n",
    "        \n",
    "        IQR = Q3 - Q1\n",
    "\n",
    "        lower = Q1 - 1.5*IQR\n",
    "        upper = Q3 + 1.5*IQR\n",
    "        \n",
    "        outlier_mask = (X < lower) | (X > upper)\n",
    "        \n",
    "        if self.action == 'drop':\n",
    "            return X[~outlier_mask]\n",
    "        else:\n",
    "            for i in range(X.shape[1]):\n",
    "                X[:, i][outlier_mask[:, i]] = self.median_[i]\n",
    "            return X"
   ]
  },
  {
   "cell_type": "markdown",
   "metadata": {},
   "source": [
    "# Define Pipeline's for both type of columns"
   ]
  },
  {
   "cell_type": "code",
   "execution_count": 9,
   "metadata": {},
   "outputs": [],
   "source": [
    "cat_preprocessor = Pipeline(steps=[\n",
    "    (\"cat_null_handler\",SimpleImputer(missing_values=np.nan,strategy=\"most_frequent\")),\n",
    "    (\"cat_enocder\",OrdinalEncoder()),\n",
    "])\n",
    "\n",
    "\n",
    "num_preprocessor = Pipeline(steps=[\n",
    "    (\"num_null_handler\",SimpleImputer(missing_values=np.nan,strategy='median')),\n",
    "    (\"num_outlier_remover\",Outlier_Remover(action=\"keep\")),\n",
    "    (\"num_scaler\",StandardScaler()),\n",
    "])\n"
   ]
  },
  {
   "cell_type": "markdown",
   "metadata": {},
   "source": [
    "# Preprocess data with Pipeline"
   ]
  },
  {
   "cell_type": "code",
   "execution_count": 10,
   "metadata": {},
   "outputs": [
    {
     "data": {
      "text/html": [
       "<div>\n",
       "<style scoped>\n",
       "    .dataframe tbody tr th:only-of-type {\n",
       "        vertical-align: middle;\n",
       "    }\n",
       "\n",
       "    .dataframe tbody tr th {\n",
       "        vertical-align: top;\n",
       "    }\n",
       "\n",
       "    .dataframe thead th {\n",
       "        text-align: right;\n",
       "    }\n",
       "</style>\n",
       "<table border=\"1\" class=\"dataframe\">\n",
       "  <thead>\n",
       "    <tr style=\"text-align: right;\">\n",
       "      <th></th>\n",
       "      <th>Unnamed: 0</th>\n",
       "      <th>match_id</th>\n",
       "      <th>venue_x</th>\n",
       "      <th>innings</th>\n",
       "      <th>batting_team</th>\n",
       "      <th>bowling_team</th>\n",
       "      <th>striker</th>\n",
       "      <th>non_striker</th>\n",
       "      <th>bowler</th>\n",
       "      <th>runs_off_bat</th>\n",
       "      <th>...</th>\n",
       "      <th>toss_winner</th>\n",
       "      <th>toss_decision</th>\n",
       "      <th>winner</th>\n",
       "      <th>win_by_runs</th>\n",
       "      <th>win_by_wickets</th>\n",
       "      <th>player_of_match</th>\n",
       "      <th>umpire1</th>\n",
       "      <th>umpire2</th>\n",
       "      <th>umpire3</th>\n",
       "      <th>ball_number</th>\n",
       "    </tr>\n",
       "  </thead>\n",
       "  <tbody>\n",
       "    <tr>\n",
       "      <th>0</th>\n",
       "      <td>-1.730897</td>\n",
       "      <td>1.415477</td>\n",
       "      <td>23.0</td>\n",
       "      <td>-0.966513</td>\n",
       "      <td>4.0</td>\n",
       "      <td>0.0</td>\n",
       "      <td>617.0</td>\n",
       "      <td>554.0</td>\n",
       "      <td>124.0</td>\n",
       "      <td>-1.121212</td>\n",
       "      <td>...</td>\n",
       "      <td>0.0</td>\n",
       "      <td>1.0</td>\n",
       "      <td>0.0</td>\n",
       "      <td>-0.605949</td>\n",
       "      <td>0.524566</td>\n",
       "      <td>61.0</td>\n",
       "      <td>37.0</td>\n",
       "      <td>42.0</td>\n",
       "      <td>33.0</td>\n",
       "      <td>-1.684360</td>\n",
       "    </tr>\n",
       "    <tr>\n",
       "      <th>1</th>\n",
       "      <td>-1.730883</td>\n",
       "      <td>1.415477</td>\n",
       "      <td>23.0</td>\n",
       "      <td>-0.966513</td>\n",
       "      <td>4.0</td>\n",
       "      <td>0.0</td>\n",
       "      <td>617.0</td>\n",
       "      <td>554.0</td>\n",
       "      <td>124.0</td>\n",
       "      <td>-1.121212</td>\n",
       "      <td>...</td>\n",
       "      <td>0.0</td>\n",
       "      <td>1.0</td>\n",
       "      <td>0.0</td>\n",
       "      <td>-0.605949</td>\n",
       "      <td>0.524566</td>\n",
       "      <td>61.0</td>\n",
       "      <td>37.0</td>\n",
       "      <td>42.0</td>\n",
       "      <td>33.0</td>\n",
       "      <td>-1.655015</td>\n",
       "    </tr>\n",
       "    <tr>\n",
       "      <th>2</th>\n",
       "      <td>-1.730869</td>\n",
       "      <td>1.415477</td>\n",
       "      <td>23.0</td>\n",
       "      <td>-0.966513</td>\n",
       "      <td>4.0</td>\n",
       "      <td>0.0</td>\n",
       "      <td>617.0</td>\n",
       "      <td>554.0</td>\n",
       "      <td>124.0</td>\n",
       "      <td>0.570349</td>\n",
       "      <td>...</td>\n",
       "      <td>0.0</td>\n",
       "      <td>1.0</td>\n",
       "      <td>0.0</td>\n",
       "      <td>-0.605949</td>\n",
       "      <td>0.524566</td>\n",
       "      <td>61.0</td>\n",
       "      <td>37.0</td>\n",
       "      <td>42.0</td>\n",
       "      <td>33.0</td>\n",
       "      <td>-1.625670</td>\n",
       "    </tr>\n",
       "    <tr>\n",
       "      <th>3</th>\n",
       "      <td>-1.730855</td>\n",
       "      <td>1.415477</td>\n",
       "      <td>23.0</td>\n",
       "      <td>-0.966513</td>\n",
       "      <td>4.0</td>\n",
       "      <td>0.0</td>\n",
       "      <td>561.0</td>\n",
       "      <td>608.0</td>\n",
       "      <td>124.0</td>\n",
       "      <td>0.570349</td>\n",
       "      <td>...</td>\n",
       "      <td>0.0</td>\n",
       "      <td>1.0</td>\n",
       "      <td>0.0</td>\n",
       "      <td>-0.605949</td>\n",
       "      <td>0.524566</td>\n",
       "      <td>61.0</td>\n",
       "      <td>37.0</td>\n",
       "      <td>42.0</td>\n",
       "      <td>33.0</td>\n",
       "      <td>-1.596324</td>\n",
       "    </tr>\n",
       "    <tr>\n",
       "      <th>4</th>\n",
       "      <td>-1.730840</td>\n",
       "      <td>1.415477</td>\n",
       "      <td>23.0</td>\n",
       "      <td>-0.966513</td>\n",
       "      <td>4.0</td>\n",
       "      <td>0.0</td>\n",
       "      <td>617.0</td>\n",
       "      <td>554.0</td>\n",
       "      <td>124.0</td>\n",
       "      <td>0.570349</td>\n",
       "      <td>...</td>\n",
       "      <td>0.0</td>\n",
       "      <td>1.0</td>\n",
       "      <td>0.0</td>\n",
       "      <td>-0.605949</td>\n",
       "      <td>0.524566</td>\n",
       "      <td>61.0</td>\n",
       "      <td>37.0</td>\n",
       "      <td>42.0</td>\n",
       "      <td>33.0</td>\n",
       "      <td>-1.566979</td>\n",
       "    </tr>\n",
       "  </tbody>\n",
       "</table>\n",
       "<p>5 rows × 27 columns</p>\n",
       "</div>"
      ],
      "text/plain": [
       "   Unnamed: 0  match_id  venue_x   innings  batting_team  bowling_team  \\\n",
       "0   -1.730897  1.415477     23.0 -0.966513           4.0           0.0   \n",
       "1   -1.730883  1.415477     23.0 -0.966513           4.0           0.0   \n",
       "2   -1.730869  1.415477     23.0 -0.966513           4.0           0.0   \n",
       "3   -1.730855  1.415477     23.0 -0.966513           4.0           0.0   \n",
       "4   -1.730840  1.415477     23.0 -0.966513           4.0           0.0   \n",
       "\n",
       "   striker  non_striker  bowler  runs_off_bat  ...  toss_winner  \\\n",
       "0    617.0        554.0   124.0     -1.121212  ...          0.0   \n",
       "1    617.0        554.0   124.0     -1.121212  ...          0.0   \n",
       "2    617.0        554.0   124.0      0.570349  ...          0.0   \n",
       "3    561.0        608.0   124.0      0.570349  ...          0.0   \n",
       "4    617.0        554.0   124.0      0.570349  ...          0.0   \n",
       "\n",
       "   toss_decision  winner  win_by_runs  win_by_wickets  player_of_match  \\\n",
       "0            1.0     0.0    -0.605949        0.524566             61.0   \n",
       "1            1.0     0.0    -0.605949        0.524566             61.0   \n",
       "2            1.0     0.0    -0.605949        0.524566             61.0   \n",
       "3            1.0     0.0    -0.605949        0.524566             61.0   \n",
       "4            1.0     0.0    -0.605949        0.524566             61.0   \n",
       "\n",
       "   umpire1  umpire2  umpire3  ball_number  \n",
       "0     37.0     42.0     33.0    -1.684360  \n",
       "1     37.0     42.0     33.0    -1.655015  \n",
       "2     37.0     42.0     33.0    -1.625670  \n",
       "3     37.0     42.0     33.0    -1.596324  \n",
       "4     37.0     42.0     33.0    -1.566979  \n",
       "\n",
       "[5 rows x 27 columns]"
      ]
     },
     "execution_count": 10,
     "metadata": {},
     "output_type": "execute_result"
    }
   ],
   "source": [
    "df[num_cols] = num_preprocessor.fit_transform(df[num_cols])\n",
    "df[cat_cols] = cat_preprocessor.fit_transform(df[cat_cols])\n",
    "df.head()"
   ]
  },
  {
   "cell_type": "markdown",
   "metadata": {},
   "source": [
    "# Train Test Split"
   ]
  },
  {
   "cell_type": "code",
   "execution_count": 11,
   "metadata": {},
   "outputs": [],
   "source": [
    "X = df.drop(columns=[\"winner\"])\n",
    "y = df.winner"
   ]
  },
  {
   "cell_type": "code",
   "execution_count": 12,
   "metadata": {},
   "outputs": [],
   "source": [
    "from sklearn.model_selection import train_test_split\n",
    "X_train, X_test, y_train, y_test = train_test_split(X,y,test_size=0.2, random_state=42)"
   ]
  },
  {
   "cell_type": "code",
   "execution_count": 13,
   "metadata": {},
   "outputs": [
    {
     "name": "stderr",
     "output_type": "stream",
     "text": [
      "2024-03-20 10:29:07.257098: I tensorflow/core/platform/cpu_feature_guard.cc:193] This TensorFlow binary is optimized with oneAPI Deep Neural Network Library (oneDNN) to use the following CPU instructions in performance-critical operations:  SSE4.1 SSE4.2 AVX AVX2 AVX512F AVX512_VNNI FMA\n",
      "To enable them in other operations, rebuild TensorFlow with the appropriate compiler flags.\n",
      "2024-03-20 10:29:07.261897: I tensorflow/core/common_runtime/process_util.cc:146] Creating new thread pool with default inter op setting: 2. Tune using inter_op_parallelism_threads for best performance.\n"
     ]
    },
    {
     "name": "stdout",
     "output_type": "stream",
     "text": [
      "Epoch 1/100\n"
     ]
    }
   ],
   "source": [
    "import tensorflow as tf\n",
    "from tensorflow.keras.models import Sequential\n",
    "from tensorflow.keras.layers import Dense, Dropout, BatchNormalization\n",
    "from tensorflow.keras.callbacks import EarlyStopping\n",
    "\n",
    "# Define the input shape\n",
    "input_shape = X_train.shape[1]\n",
    "\n",
    "# Create the model\n",
    "model = Sequential()\n",
    "\n",
    "# Add the input layer\n",
    "model.add(Dense(512, activation='relu', input_shape=(input_shape,)))\n",
    "model.add(BatchNormalization())\n",
    "model.add(Dropout(0.3))\n",
    "\n",
    "# Add hidden layers\n",
    "model.add(Dense(1024, activation='relu'))\n",
    "model.add(BatchNormalization())\n",
    "model.add(Dropout(0.4))\n",
    "model.add(Dense(2048, activation='relu'))\n",
    "model.add(BatchNormalization())\n",
    "model.add(Dropout(0.5))\n",
    "model.add(Dense(1024, activation='relu'))\n",
    "model.add(BatchNormalization())\n",
    "model.add(Dropout(0.4))\n",
    "model.add(Dense(512, activation='relu'))\n",
    "model.add(BatchNormalization())\n",
    "model.add(Dropout(0.3))\n",
    "\n",
    "# Add the output layer\n",
    "output_units = len(np.unique(y_train))\n",
    "model.add(Dense(output_units, activation='softmax'))\n",
    "\n",
    "# Compile the model\n",
    "model.compile(optimizer='adam', loss='sparse_categorical_crossentropy', metrics=['accuracy'])\n",
    "\n",
    "# Define early stopping callback\n",
    "early_stop = EarlyStopping(monitor='val_loss', patience=10, restore_best_weights=True)\n",
    "\n",
    "# Train the model\n",
    "model.fit(X_train, y_train, epochs=100, batch_size=128, validation_data=(X_test, y_test), callbacks=[early_stop])"
   ]
  },
  {
   "cell_type": "code",
   "execution_count": null,
   "metadata": {},
   "outputs": [],
   "source": []
  },
  {
   "cell_type": "code",
   "execution_count": null,
   "metadata": {},
   "outputs": [],
   "source": []
  },
  {
   "cell_type": "code",
   "execution_count": null,
   "metadata": {},
   "outputs": [],
   "source": []
  }
 ],
 "metadata": {
  "kernelspec": {
   "display_name": "tensorflowAlt",
   "language": "python",
   "name": "python3"
  },
  "language_info": {
   "codemirror_mode": {
    "name": "ipython",
    "version": 3
   },
   "file_extension": ".py",
   "mimetype": "text/x-python",
   "name": "python",
   "nbconvert_exporter": "python",
   "pygments_lexer": "ipython3",
   "version": "3.10.13"
  }
 },
 "nbformat": 4,
 "nbformat_minor": 2
}
